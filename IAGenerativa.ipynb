{
 "cells": [
  {
   "cell_type": "markdown",
   "id": "c708f302",
   "metadata": {},
   "source": [
    "# 7. INTELIEGENCIA ARTIFICIAL GENERATIVA"
   ]
  },
  {
   "cell_type": "markdown",
   "id": "e5e824c6",
   "metadata": {},
   "source": [
    "Generación de Texto con GPT-3: Realizar ejercicios de generación de texto\n",
    "utilizando una API basada en GPT-3. Pueden generar historias, poemas o\n",
    "respuestas a preguntas específicas."
   ]
  },
  {
   "cell_type": "code",
   "execution_count": 2,
   "id": "84276a74",
   "metadata": {},
   "outputs": [],
   "source": [
    "import openai"
   ]
  },
  {
   "cell_type": "code",
   "execution_count": 3,
   "id": "62995fa0",
   "metadata": {
    "scrolled": true
   },
   "outputs": [
    {
     "name": "stdout",
     "output_type": "stream",
     "text": [
      "En un jardín de colores radiantes,\n",
      "brilla una flor amarilla, deslumbrante.\n",
      "Sus pétalos suaves como el sol brillante,\n",
      "iluminan mi alma, llenándola de esperanza constante.\n"
     ]
    }
   ],
   "source": [
    "openai.api_key = \"Inserte_API_Key\"\n",
    "question = \"Crea un poema de una flor amarilla\"\n",
    "response = openai.ChatCompletion.create(\n",
    "    model=\"gpt-3.5-turbo\",\n",
    "    messages=[\n",
    "        {'role': 'system', 'content': \"dame una respuesta de al menos 3 lineas\"},       \n",
    "        {'role': 'user', 'content': question}           \n",
    "    ],\n",
    "    temperature =0.5   # que tan creativo es\n",
    ")\n",
    "print(response[\"choices\"][0][\"message\"][\"content\"])"
   ]
  },
  {
   "cell_type": "code",
   "execution_count": 4,
   "id": "ff5e2e9d",
   "metadata": {},
   "outputs": [
    {
     "name": "stdout",
     "output_type": "stream",
     "text": [
      "En el vasto espacio, donde todo es infinito,\n",
      "las estrellas brillan con un fulgor bendito,\n",
      "un universo mágico, lleno de misterio y encanto,\n",
      "donde los sueños se funden con el firmamento.\n"
     ]
    }
   ],
   "source": [
    "openai.api_key = \"Inserte_API_Key\"\n",
    "question = \"Crea un poema del espacio\"\n",
    "response = openai.ChatCompletion.create(\n",
    "    model=\"gpt-3.5-turbo\",\n",
    "    messages=[\n",
    "        {'role': 'system', 'content': \"dame una respuesta de al menos 3 lineas\"},       #contexto\n",
    "        {'role': 'user', 'content': question}           # pregunta\n",
    "    ],\n",
    "    temperature =0.5   # que tan creativo es\n",
    ")\n",
    "print(response[\"choices\"][0][\"message\"][\"content\"])"
   ]
  },
  {
   "cell_type": "code",
   "execution_count": null,
   "id": "ae9508e4",
   "metadata": {},
   "outputs": [],
   "source": []
  }
 ],
 "metadata": {
  "kernelspec": {
   "display_name": "Python 3 (ipykernel)",
   "language": "python",
   "name": "python3"
  },
  "language_info": {
   "codemirror_mode": {
    "name": "ipython",
    "version": 3
   },
   "file_extension": ".py",
   "mimetype": "text/x-python",
   "name": "python",
   "nbconvert_exporter": "python",
   "pygments_lexer": "ipython3",
   "version": "3.9.13"
  }
 },
 "nbformat": 4,
 "nbformat_minor": 5
}
